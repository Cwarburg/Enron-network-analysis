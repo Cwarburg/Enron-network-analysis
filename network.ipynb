{
 "cells": [
  {
   "cell_type": "code",
   "execution_count": 1,
   "metadata": {},
   "outputs": [],
   "source": [
    "# This Python 3 environment comes with many helpful analytics libraries installed\n",
    "# It is defined by the kaggle/python docker image: https://github.com/kaggle/docker-python\n",
    "# For example, here's several helpful packages to load in \n",
    "\n",
    "\n",
    "# Input data files are available in the \"../input/\" directory.\n",
    "# For example, running this (by clicking run or pressing Shift+Enter) will list the files in the input directory\n",
    "\n"
   ]
  },
  {
   "cell_type": "markdown",
   "metadata": {},
   "source": [
    "## Motivation"
   ]
  },
  {
   "cell_type": "markdown",
   "metadata": {},
   "source": [
    "\n",
    "\n",
    "Our dataset is the Enron Email Dataset, a collection of approximately 500,000 internal emails from around 150 Enron employees—primarily executives—spanning the years 1998 to 2002. It was released by the Federal Energy Regulatory Commission (FERC) during investigations into Enron’s collapse and later curated by the CALO Project at Carnegie Mellon University.\n",
    "\n",
    "\n",
    "We chose the Enron Email Dataset because it provides a rare and rich source of real-world corporate communication data that is both large-scale and publicly available. The Enron scandal is one of the most infamous cases of corporate fraud in U.S. history, involving large-scale accounting manipulation, insider trading, and ethical misconduct. This context makes the dataset highly relevant for studying patterns of communication that might signal unethical or fraudulent behavior. Moreover, it has been widely used in previous research on social network analysis and NLP, giving us a solid foundation for our work while allowing room for novel approaches.\n",
    "\n",
    "\n",
    "Our goal was to explore whether natural language processing (NLP) techniques can be used to identify suspicious behavior, key individuals, or hidden communication patterns within an organization. For the end user—such as auditors, compliance officers, or investigators—we envision a tool that can enhance traditional fraud detection methods by flagging anomalous communication behavior or surfacing important actors in a corporate network. Ultimately, our aim is to contribute to tools that make large-scale communication data more interpretable and actionable in preventing or detecting fraud."
   ]
  },
  {
   "cell_type": "code",
   "execution_count": 2,
   "metadata": {},
   "outputs": [
    {
     "name": "stderr",
     "output_type": "stream",
     "text": [
      "/Users/christianwarburg/anaconda3/lib/python3.11/site-packages/pandas/core/arrays/masked.py:60: UserWarning: Pandas requires version '1.3.6' or newer of 'bottleneck' (version '1.3.5' currently installed).\n",
      "  from pandas.core import (\n",
      "/Users/christianwarburg/anaconda3/lib/python3.11/site-packages/nxviz/__init__.py:33: UserWarning: \n",
      "nxviz has a new API! Version 0.7.4 onwards, the old class-based API is being\n",
      "deprecated in favour of a new API focused on advancing a grammar of network\n",
      "graphics. If your plotting code depends on the old API, please consider\n",
      "pinning nxviz at version 0.7.4, as the new API will break your old code.\n",
      "\n",
      "To check out the new API, please head over to the docs at\n",
      "https://ericmjl.github.io/nxviz/ to learn more. We hope you enjoy using it!\n",
      "\n",
      "(This deprecation message will go away in version 1.0.)\n",
      "\n",
      "  warnings.warn(\n"
     ]
    }
   ],
   "source": [
    "import numpy as np # linear algebra\n",
    "import pandas as pd # data processing, CSV file I/O (e.g. pd.read_csv)\n",
    "import seaborn as sns\n",
    "import matplotlib.pyplot as plt\n",
    "import re\n",
    "import networkx as nx\n",
    "import nxviz as nv\n"
   ]
  },
  {
   "cell_type": "markdown",
   "metadata": {},
   "source": [
    "## The Dataset and Data Cleaning\n",
    "\n",
    "The Enron email corpus initially comprises over 500,000 messages exchanged among more than 5,000 unique addresses, but raw data at this scale contains a great deal of noise and automated traffic that can obscure meaningful social interactions. To produce a high‐quality network for analysis, we applied several successive filters:\n",
    "\n",
    "1. **Remove incomplete records.** Any email lacking a valid sender, recipient, subject line, or message body was discarded. This eliminated messages that were malformed, empty, or otherwise unsuitable for content-based or network analysis.\n",
    "\n",
    "2. **Filter out system-generated and broadcast lists.** Addresses associated with payroll, distribution lists (e.g., `all.employees`), public relations, announcement channels, “team.\\*” groups, and similar automated sources were identified via keyword matching (e.g., `payroll`, `list`, `distribution`, `announcement`, `team.`) and excluded. By doing so, we focused exclusively on one-to-one or small-group human correspondence.\n",
    "\n",
    "3. **Drop self-sent emails.** Messages where the sender and primary recipient were identical—essentially personal notes filed in one’s own inbox—were removed, since they do not represent true interpersonal communication.\n",
    "\n",
    "4. **Constrain to truly People of Interest.** Since there are so many emails from different employees, we constrained the emails to only people on the exucutive level. Each email has a `user` label, so we decided to only keep emails that were either sent or recieved from a `user`. This lead to 150 people, only on the exucutive level.\n",
    "\n",
    "After these preprocessing steps, the dataset shrank from roughly **517,000** raw emails to **16,000** emails exchanged among **150** active employees. This distilled network captures the most substantial, person-to-person interactions, laying a solid foundation for centrality, community detection, and other graph-theoretic analyses.\n"
   ]
  },
  {
   "cell_type": "code",
   "execution_count": 3,
   "metadata": {},
   "outputs": [
    {
     "name": "stdout",
     "output_type": "stream",
     "text": [
      "<class 'pandas.core.frame.DataFrame'>\n",
      "RangeIndex: 517401 entries, 0 to 517400\n",
      "Data columns (total 14 columns):\n",
      " #   Column      Non-Null Count   Dtype \n",
      "---  ------      --------------   ----- \n",
      " 0   Message-ID  517401 non-null  object\n",
      " 1   Date        517401 non-null  object\n",
      " 2   From        517401 non-null  object\n",
      " 3   To          495554 non-null  object\n",
      " 4   Subject     498214 non-null  object\n",
      " 5   X-From      517372 non-null  object\n",
      " 6   X-To        508248 non-null  object\n",
      " 7   X-cc        128886 non-null  object\n",
      " 8   X-bcc       175 non-null     object\n",
      " 9   X-Folder    517372 non-null  object\n",
      " 10  X-Origin    517372 non-null  object\n",
      " 11  X-FileName  513229 non-null  object\n",
      " 12  content     517401 non-null  object\n",
      " 13  user        517401 non-null  object\n",
      "dtypes: object(14)\n",
      "memory usage: 55.3+ MB\n",
      "Number of emails: 517401\n"
     ]
    }
   ],
   "source": [
    "pd.options.mode.chained_assignment = None\n",
    "\n",
    "data = pd.read_csv('../emails_structured.csv')\n",
    "\n",
    "\n",
    "data.info()\n",
    "len(data)\n",
    "\n",
    "#Can we print the first row in the data? Im specifically intersed in the user\n",
    "\n",
    "#print all users\n",
    "\n",
    "users = data['user'].unique()\n",
    "\n",
    "\n",
    "print(f'Number of emails: {len(data)}')\n"
   ]
  },
  {
   "cell_type": "code",
   "execution_count": 4,
   "metadata": {},
   "outputs": [
    {
     "name": "stdout",
     "output_type": "stream",
     "text": [
      "Message-ID        <18132723.1075851652519.JavaMail.evans@thyme>\n",
      "Date                                  2001-10-03 22:01:52+00:00\n",
      "From                                           ['bkc7@pge.com']\n",
      "To                                       ['jdasovic@enron.com']\n",
      "Subject                                                     NaN\n",
      "X-From                             Cherry, Brian <BKC7@pge.com>\n",
      "X-To                Dasovich Jeff (E-mail) <jdasovic@enron.com>\n",
      "X-cc                                                        NaN\n",
      "X-bcc                                                       NaN\n",
      "X-Folder      \\Dasovich, Jeff (Non-Privileged)\\Dasovich, Jef...\n",
      "X-Origin                                             DASOVICH-J\n",
      "X-FileName                  Dasovich, Jeff (Non-Privileged).pst\n",
      "content       Well, I wonder what Davis will do now ?  Veto ...\n",
      "user                                                 dasovich-j\n",
      "Name: 70000, dtype: object\n",
      "\n",
      "Example of a message\n",
      "\n",
      "Well, I wonder what Davis will do now ?  Veto AB2X 18 ?   I don't think he\n",
      "has the balls....\n"
     ]
    }
   ],
   "source": [
    "#Here you can see an example of a funny email. There are some redundant rows, so we will clean it to make it more readable\n",
    "\n",
    "print(data.iloc[70000])\n",
    "print('\\nExample of a message\\n')\n",
    "print(data.iloc[70000]['content'])\n"
   ]
  },
  {
   "cell_type": "code",
   "execution_count": 5,
   "metadata": {},
   "outputs": [
    {
     "data": {
      "text/plain": [
       "message_id        <18132723.1075851652519.JavaMail.evans@thyme>\n",
       "sender                                            Cherry, Brian\n",
       "receiver                                 Dasovich Jeff (E-mail)\n",
       "date                                  2001-10-03 22:01:52+00:00\n",
       "content       Well, I wonder what Davis will do now ?  Veto ...\n",
       "user                                                 dasovich-j\n",
       "Name: 70000, dtype: object"
      ]
     },
     "execution_count": 5,
     "metadata": {},
     "output_type": "execute_result"
    }
   ],
   "source": [
    "#Now we want to clean it!\n",
    "#We decide to keep the following columns: Message-ID, X-From, X-To, Date, content and user. The user is either the sender or the receiver of the email.\n",
    "\n",
    "df_clean = data[['Message-ID','X-From','X-To','Date','content','user']].rename(columns={\n",
    "    'Message-ID': 'message_id',\n",
    "    'X-From': 'sender',\n",
    "    'X-To': 'receiver',\n",
    "    'Date': 'date',\n",
    "    'X-Origin': 'origin'\n",
    "})\n",
    "\n",
    "df_clean['sender'] = df_clean['sender'].str.replace(r'<.*?>', '', regex=True).str.strip()\n",
    "df_clean['receiver'] = df_clean['receiver'].str.replace(r'<.*?>', '', regex=True).str.strip()\n",
    "\n",
    "# Convert 'date' column to datetime dtype\n",
    "df_clean['date'] = pd.to_datetime(df_clean['date'])\n",
    "#After\n",
    "df_clean.iloc[70000]"
   ]
  },
  {
   "cell_type": "code",
   "execution_count": 6,
   "metadata": {},
   "outputs": [
    {
     "name": "stdout",
     "output_type": "stream",
     "text": [
      "Deleted 9153 rows with missing values\n"
     ]
    }
   ],
   "source": [
    "#Delete all emails, that does not have a sender or receiver or text or subject\n",
    "df_len = len(df_clean)\n",
    "df_clean = df_clean.dropna(subset=['sender', 'receiver', 'content','message_id','user'])\n",
    "\n",
    "print(f'Deleted {df_len - len(df_clean)} rows with missing values')\n",
    "\n",
    "users = df_clean['user'].unique()\n",
    "users = list(users)\n"
   ]
  },
  {
   "cell_type": "code",
   "execution_count": 7,
   "metadata": {},
   "outputs": [],
   "source": [
    "#Since we dont know if the sender is the same as the user, we will create a new column with the sender code.\n",
    "# To determine wheater the email is sent or recived from the user, we will create a new column with the sender code. This ensures\n",
    "# that we can identify the sender and receiver of the email. We will also create a new column with the receiver code.\n",
    "def name_to_code(name: str) -> str:\n",
    "    \"\"\"Convert a display name into 'last-firstInitial' code, or None if not parsable.\"\"\"\n",
    "    clean = re.sub(r'\\(.*?\\)', '', name).strip()\n",
    "    # Try \"Last, First\" format\n",
    "    if ',' in clean:\n",
    "        parts = [x.strip() for x in clean.split(',', 1)]\n",
    "        if len(parts) == 2 and parts[0] and parts[1]:\n",
    "            last, first = parts\n",
    "        else:\n",
    "            return None\n",
    "    else:\n",
    "        # Try \"First Last\" or \"Last First\"\n",
    "        parts = clean.split()\n",
    "        if len(parts) == 2:\n",
    "            first, last = parts\n",
    "        else:\n",
    "            return None\n",
    "    if not first or not last:\n",
    "        return None\n",
    "    return f\"{last.lower()}-{first[0].lower()}\"\n",
    "\n",
    "# Apply conversion safely\n",
    "df_clean['sender_code'] = df_clean['sender'].apply(name_to_code)\n",
    "df_clean['receiver_code'] = df_clean['receiver'].apply(name_to_code)\n",
    "\n",
    "# Filter where either code is in your valid_names list\n",
    "filtered_df = df_clean[\n",
    "    df_clean['sender_code'].isin(users) &\n",
    "    df_clean['receiver_code'].isin(users)\n",
    "].reset_index(drop=True)\n",
    "\n",
    "\n"
   ]
  },
  {
   "cell_type": "markdown",
   "metadata": {},
   "source": [
    "### Save the final dataset as a .csv file"
   ]
  },
  {
   "cell_type": "code",
   "execution_count": 33,
   "metadata": {},
   "outputs": [],
   "source": [
    "#We remove emails where the sender and receiver are the same, because these will probably just be notes to self\n",
    "\n",
    "filtered_df = filtered_df[filtered_df['sender_code'] != filtered_df['receiver_code']].reset_index(drop=True)\n",
    "#save the filtered dataframe to a csv file\n",
    "filtered_df.to_csv('../filtered_emails.csv', index=False)\n"
   ]
  },
  {
   "cell_type": "markdown",
   "metadata": {},
   "source": [
    "## Network analysis.\n",
    "\n",
    " In the following part of the code, we will calculate different network metrics including centrality scores, betweenness scores, community detection aswell as basic network metrics such as degree"
   ]
  },
  {
   "cell_type": "code",
   "execution_count": 32,
   "metadata": {},
   "outputs": [
    {
     "name": "stdout",
     "output_type": "stream",
     "text": [
      "Interactive network saved to email_network_plotly.html\n"
     ]
    }
   ],
   "source": [
    "#Visualize the data\n",
    "import networkx as nx\n",
    "import plotly.graph_objs as go\n",
    "\n",
    "# Build directed graph G\n",
    "G = nx.DiGraph()\n",
    "for _, row in filtered_df.iterrows():\n",
    "    s, r, u = row['sender_code'], row['receiver_code'], row['user']\n",
    "    if s == u:\n",
    "        G.add_edge(u, r)\n",
    "    elif r == u:\n",
    "        G.add_edge(s, u)\n",
    "\n",
    "# Compute layout\n",
    "pos = nx.spring_layout(G, k=0.5)\n",
    "\n",
    "# Create edge traces\n",
    "edge_x, edge_y = [], []\n",
    "for u, v in G.edges():\n",
    "    x0, y0 = pos[u]\n",
    "    x1, y1 = pos[v]\n",
    "    edge_x += [x0, x1, None]\n",
    "    edge_y += [y0, y1, None]\n",
    "\n",
    "edge_trace = go.Scatter(\n",
    "    x=edge_x, y=edge_y,\n",
    "    mode='lines',\n",
    "    line=dict(width=0.5),\n",
    "    hoverinfo='none'\n",
    ")\n",
    "\n",
    "# Create node traces\n",
    "node_x, node_y, labels = [], [], []\n",
    "for node in G.nodes():\n",
    "    x, y = pos[node]\n",
    "    node_x.append(x)\n",
    "    node_y.append(y)\n",
    "    labels.append(node)\n",
    "\n",
    "node_trace = go.Scatter(\n",
    "    x=node_x, y=node_y,\n",
    "    mode='markers+text',\n",
    "    text=labels,\n",
    "    textposition='top center',\n",
    "    marker=dict(size=10),\n",
    "    hoverinfo='text'\n",
    ")\n",
    "\n",
    "# Build figure\n",
    "fig = go.Figure(data=[edge_trace, node_trace])\n",
    "fig.update_layout(\n",
    "    title_text=\"Email Communication Network\",\n",
    "    showlegend=False,\n",
    "    margin=dict(b=0, l=0, r=0, t=30)\n",
    ")\n",
    "\n",
    "# Save to HTML\n",
    "fig.write_html(\"email_network_plotly.html\", include_plotlyjs='cdn')\n",
    "\n",
    "# Display link for download\n",
    "print(\"Interactive network saved to email_network_plotly.html\")\n",
    "\n",
    "\n",
    "\n",
    "\n"
   ]
  },
  {
   "cell_type": "code",
   "execution_count": 20,
   "metadata": {},
   "outputs": [
    {
     "data": {
      "image/png": "[encoded data removed]",
      "text/plain": [
       "<Figure size 600x1000 with 1 Axes>"
      ]
     },
     "metadata": {},
     "output_type": "display_data"
    }
   ],
   "source": [
    "between = nx.betweenness_centrality(G)\n",
    "name = []\n",
    "betweenness = []\n",
    "\n",
    "for key, value in between.items():\n",
    "    name.append(key)\n",
    "    betweenness.append(value)\n",
    "\n",
    "bet = pd.DataFrame()\n",
    "bet['name'] = name\n",
    "bet['betweenness'] = betweenness\n",
    "bet = bet.sort_values(by='betweenness', ascending=False)\n",
    "\n",
    "\n",
    "plt.figure(figsize=(6, 10))\n",
    "_ = sns.barplot(x='betweenness', y='name', data=bet[:5], orient='h')\n",
    "_ = plt.xlabel('Degree Betweenness Centrality')\n",
    "_ = plt.ylabel('Correspondent')\n",
    "_ = plt.title('Top 5 Betweenness Centrality Scores in Enron Email Network')\n",
    "plt.tight_layout()  # adjust subplot params to give margins for labels\n",
    "plt.savefig('images/betweenness.png', bbox_inches='tight')\n",
    "plt.show()"
   ]
  },
  {
   "cell_type": "code",
   "execution_count": 27,
   "metadata": {},
   "outputs": [
    {
     "name": "stdout",
     "output_type": "stream",
     "text": [
      "Number of communities detected: 6\n",
      "\n",
      "Community sizes:\n",
      "Community 0: 29 nodes\n",
      "Community 1: 26 nodes\n",
      "Community 2: 26 nodes\n",
      "Community 3: 25 nodes\n",
      "Community 4: 17 nodes\n",
      "Community 5: 17 nodes\n",
      "\n",
      "Top 5 central nodes in community 0:\n",
      "grigsby-m: 1.429\n",
      "lenhart-m: 0.750\n",
      "keiser-k: 0.714\n",
      "smith-m: 0.714\n",
      "allen-p: 0.679\n",
      "\n",
      "Top 5 central nodes in community 1:\n",
      "arnold-j: 0.840\n",
      "neal-s: 0.760\n",
      "griffith-j: 0.680\n",
      "martin-t: 0.560\n",
      "mckay-j: 0.560\n",
      "\n",
      "Top 5 central nodes in community 2:\n",
      "lavorato-j: 1.320\n",
      "kitchen-l: 1.240\n",
      "whalley-g: 1.000\n",
      "kean-s: 0.960\n",
      "beck-s: 0.840\n",
      "\n",
      "Top 5 central nodes in community 3:\n",
      "symes-k: 0.667\n",
      "semperger-c: 0.667\n",
      "solberg-g: 0.542\n",
      "salisbury-h: 0.500\n",
      "forney-j: 0.458\n",
      "\n",
      "Top 5 central nodes in community 4:\n",
      "harris-s: 1.625\n",
      "watson-k: 1.562\n",
      "lokay-m: 1.562\n",
      "donoho-l: 1.500\n",
      "fossum-d: 1.375\n"
     ]
    },
    {
     "data": {
      "text/plain": [
       "<Figure size 1000x2500 with 0 Axes>"
      ]
     },
     "metadata": {},
     "output_type": "display_data"
    }
   ],
   "source": [
    "#community detection\n",
    "\n",
    "# Use Louvain method for community detection\n",
    "communities = nx.community.louvain_communities(G)\n",
    "\n",
    "# Print number of communities found\n",
    "print(f\"Number of communities detected: {len(communities)}\")\n",
    "\n",
    "# Create a mapping of node to community number\n",
    "community_map = {}\n",
    "for i, community in enumerate(communities):\n",
    "    for node in community:\n",
    "        community_map[node] = i\n",
    "\n",
    "# Add community information to nodes\n",
    "nx.set_node_attributes(G, community_map, 'community')\n",
    "\n",
    "# Print size of each community\n",
    "print(\"\\nCommunity sizes:\")\n",
    "for i, community in enumerate(communities):\n",
    "    print(f\"Community {i}: {len(community)} nodes\")\n",
    "\n",
    "# Visualize top 5 largest communities\n",
    "community_sizes = [len(c) for c in communities]\n",
    "top_5_indices = sorted(range(len(community_sizes)), key=lambda k: community_sizes[k], reverse=True)[:5]\n",
    "\n",
    "plt.figure(figsize=(10, 25))\n",
    "for idx in top_5_indices:\n",
    "    community = communities[idx]\n",
    "    subgraph = G.subgraph(community)\n",
    "    print(f\"\\nTop 5 central nodes in community {idx}:\")\n",
    "    # Get degree centrality for nodes in this community\n",
    "    deg_cent = nx.degree_centrality(subgraph)\n",
    "    top_nodes = sorted(deg_cent.items(), key=lambda x: x[1], reverse=True)[:5]\n",
    "    for node, centrality in top_nodes:\n",
    "        print(f\"{node}: {centrality:.3f}\")\n"
   ]
  },
  {
   "cell_type": "code",
   "execution_count": 34,
   "metadata": {},
   "outputs": [
    {
     "name": "stdout",
     "output_type": "stream",
     "text": [
      "Average degree of the network: 18.93\n",
      "Most connected node: lavorato-j with degree 61\n",
      "Lavorato-j is in community 2\n",
      "Members of Lavorato-j's community:\n",
      "['delainey-d', 'steffes-j', 'sturm-f', 'shapiro-r', 'sanders-r', 'kitchen-l', 'cash-m', 'shankman-j', 'skilling-j', 'quenet-j', 'rogers-b', 'lay-k', 'zipper-a', 'lavorato-j', 'davis-d', 'buy-r', 'arora-h', 'zufferli-j', 'kaminski-v', 'whalley-g', 'donohoe-t', 'white-s', 'presto-k', 'kean-s', 'beck-s', 'haedicke-m']\n"
     ]
    }
   ],
   "source": [
    "#find average degree of the network\n",
    "degree = dict(G.degree())\n",
    "degree_values = list(degree.values())\n",
    "avg_degree = sum(degree_values) / len(degree_values)\n",
    "print(f\"Average degree of the network: {avg_degree:.2f}\")\n",
    "#find the most connected node\n",
    "max_degree_node = max(degree, key=degree.get)\n",
    "max_degree = degree[max_degree_node]\n",
    "print(f\"Most connected node: {max_degree_node} with degree {max_degree}\")\n",
    "#who is in lavorato-j community\n",
    "lavorato_j_community = community_map.get('lavorato-j')\n",
    "print(f\"Lavorato-j is in community {lavorato_j_community}\")\n",
    "#members of the community\n",
    "print(f\"Members of Lavorato-j's community:\")\n",
    "members = [node for node, comm in community_map.items() if comm == lavorato_j_community]\n",
    "print(members)\n",
    "\n",
    "\n"
   ]
  },
  {
   "cell_type": "code",
   "execution_count": 35,
   "metadata": {},
   "outputs": [
    {
     "data": {
      "image/png": "[encoded data removed]",
      "text/plain": [
       "<Figure size 600x1000 with 1 Axes>"
      ]
     },
     "metadata": {},
     "output_type": "display_data"
    },
    {
     "data": {
      "image/png": "[encoded data removed]",
      "text/plain": [
       "<Figure size 600x1000 with 1 Axes>"
      ]
     },
     "metadata": {},
     "output_type": "display_data"
    }
   ],
   "source": [
    "eigencent = nx.eigenvector_centrality(G)\n",
    "name = []\n",
    "eigencentrality = []\n",
    "for key, value in eigencent.items():\n",
    "    name.append(key)\n",
    "    eigencentrality.append(value)\n",
    "eig = pd.DataFrame()\n",
    "eig['name'] = name\n",
    "eig['eigencentrality'] = eigencentrality\n",
    "eig = eig.sort_values(by='eigencentrality', ascending=False)\n",
    "plt.figure(figsize=(6, 10))\n",
    "_ = sns.barplot(x='eigencentrality', y='name', data=eig[:5], orient='h')\n",
    "_ = plt.xlabel('Eigenvector Centrality')\n",
    "_ = plt.ylabel('Correspondent')\n",
    "_ = plt.title('Top 5 Eigenvector Centrality Scores in Enron Email Network')\n",
    "plt.tight_layout()  # adjust subplot params to give margins for labels\n",
    "plt.savefig('images/eigencentrality.png', bbox_inches='tight')\n",
    "\n",
    "plt.show()\n",
    "\n",
    "#centrality\n",
    "#degree centrality\n",
    "degree = nx.degree_centrality(G)\n",
    "name = []\n",
    "degreecentrality = []\n",
    "for key, value in degree.items():\n",
    "    name.append(key)\n",
    "    degreecentrality.append(value)\n",
    "deg = pd.DataFrame()\n",
    "deg['name'] = name\n",
    "deg['degreecentrality'] = degreecentrality\n",
    "deg = deg.sort_values(by='degreecentrality', ascending=False)\n",
    "plt.figure(figsize=(6, 10))\n",
    "_ = sns.barplot(x='degreecentrality', y='name', data=deg[:5], orient='h')\n",
    "_ = plt.xlabel('Degree Centrality')\n",
    "_ = plt.ylabel('Correspondent')\n",
    "_ = plt.title('Top 5 Degree Centrality Scores in Enron Email Network')\n",
    "plt.tight_layout()  # adjust subplot params to give margins for labels\n",
    "plt.savefig('images/degreecentrality.png', bbox_inches='tight')\n",
    "plt.show()"
   ]
  },
  {
   "cell_type": "markdown",
   "metadata": {},
   "source": [
    "### Visualization of community 2"
   ]
  },
  {
   "cell_type": "code",
   "execution_count": 31,
   "metadata": {},
   "outputs": [
    {
     "name": "stdout",
     "output_type": "stream",
     "text": [
      "Interactive community network saved to community_lavorato_plotly.html\n"
     ]
    }
   ],
   "source": [
    "import networkx as nx\n",
    "import plotly.graph_objs as go\n",
    "\n",
    "# Identify Lavorato-j’s community\n",
    "lavorato_comm = community_map.get('lavorato-j')\n",
    "members = [node for node, comm in community_map.items() if comm == lavorato_comm]\n",
    "\n",
    "# Build the subgraph\n",
    "subG = G.subgraph(members).copy()\n",
    "\n",
    "# Compute layout\n",
    "pos = nx.spring_layout(subG, k=0.5)\n",
    "\n",
    "# Edge traces\n",
    "edge_x, edge_y = [], []\n",
    "for u, v in subG.edges():\n",
    "    x0, y0 = pos[u]\n",
    "    x1, y1 = pos[v]\n",
    "    edge_x += [x0, x1, None]\n",
    "    edge_y += [y0, y1, None]\n",
    "\n",
    "edge_trace = go.Scatter(\n",
    "    x=edge_x, y=edge_y,\n",
    "    mode='lines',\n",
    "    line=dict(width=1),\n",
    "    hoverinfo='none'\n",
    ")\n",
    "\n",
    "# Node traces\n",
    "node_x, node_y, labels = [], [], []\n",
    "for node in subG.nodes():\n",
    "    x, y = pos[node]\n",
    "    node_x.append(x)\n",
    "    node_y.append(y)\n",
    "    labels.append(node)\n",
    "\n",
    "node_trace = go.Scatter(\n",
    "    x=node_x, y=node_y,\n",
    "    mode='markers+text',\n",
    "    text=labels,\n",
    "    textposition='top center',\n",
    "    marker=dict(size=12, color='lightblue'),\n",
    "    hoverinfo='text'\n",
    ")\n",
    "\n",
    "# Build and save figure\n",
    "fig = go.Figure(data=[edge_trace, node_trace])\n",
    "fig.update_layout(\n",
    "    title_text=f\"Community {lavorato_comm} (Lavorato-j)\",\n",
    "    showlegend=False,\n",
    "    margin=dict(b=0,l=0,r=0,t=30)\n",
    ")\n",
    "\n",
    "html_file = \"community_lavorato_plotly.html\"\n",
    "fig.write_html(html_file, include_plotlyjs='cdn')\n",
    "print(f\"Interactive community network saved to {html_file}\")\n"
   ]
  }
 ],
 "metadata": {
  "kernelspec": {
   "display_name": "base",
   "language": "python",
   "name": "python3"
  },
  "language_info": {
   "codemirror_mode": {
    "name": "ipython",
    "version": 3
   },
   "file_extension": ".py",
   "mimetype": "text/x-python",
   "name": "python",
   "nbconvert_exporter": "python",
   "pygments_lexer": "ipython3",
   "version": "3.11.3"
  }
 },
 "nbformat": 4,
 "nbformat_minor": 2
}
